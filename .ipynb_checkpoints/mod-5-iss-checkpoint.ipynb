{
 "cells": [
  {
   "cell_type": "code",
   "execution_count": 1,
   "id": "67b88bc0-69a6-482d-9dd3-7943bfa7d5a1",
   "metadata": {},
   "outputs": [
    {
     "name": "stdout",
     "output_type": "stream",
     "text": [
      "hello\n"
     ]
    }
   ],
   "source": [
    "print(\"hello\")"
   ]
  },
  {
   "cell_type": "code",
   "execution_count": 2,
   "id": "d9297512-01be-4869-a042-58855f47671c",
   "metadata": {},
   "outputs": [],
   "source": [
    "import json\n",
    "import urllib.request\n",
    "import time\n",
    "import numpy as np\n",
    "import pandas as pd\n",
    "import matplotlib.pyplot as plt"
   ]
  },
  {
   "cell_type": "code",
   "execution_count": null,
   "id": "95d888a8-907d-4307-b010-529fd2fdceb8",
   "metadata": {},
   "outputs": [],
   "source": [
    "lat_list=[]\n",
    "lon_list=[]\n",
    "timestamp_list=[]\n",
    "\n",
    "for i in range(20):\n",
    "    url = \"http://api.open-notify.org/iss-now.json\"\n",
    "    response = urllib.request.urlopen(url)\n",
    "    result = json.loads(response.read())\n",
    "\n",
    "    location = result[\"iss_position\"]\n",
    "    timestamp = result['timestamp']\n",
    "    lat = location['latitude']\n",
    "    lon = location['longitude']\n",
    "  \n",
    "    lat = float(lat)\n",
    "    lon = float(lon)\n",
    "    \n",
    "    lat_list.append(lat)\n",
    "    lon_list.append(lon)\n",
    "    timestamp_list.append(timestamp)\n",
    "\n",
    "    time.sleep(10)\n",
    "    \n",
    "d = {'latitude': lat_list, 'longitude': lon_list, 'timestamp': timestamp_list}\n",
    "df = pd.DataFrame(data=d)\n",
    "df"
   ]
  },
  {
   "cell_type": "code",
   "execution_count": null,
   "id": "5f81d963-ba33-4c4f-814d-cea12f47abaa",
   "metadata": {},
   "outputs": [],
   "source": []
  },
  {
   "cell_type": "code",
   "execution_count": null,
   "id": "ed8a09a2-36d0-4a55-a827-322219fe7b83",
   "metadata": {},
   "outputs": [],
   "source": []
  }
 ],
 "metadata": {
  "kernelspec": {
   "display_name": "Python 3 (ipykernel)",
   "language": "python",
   "name": "python3"
  },
  "language_info": {
   "codemirror_mode": {
    "name": "ipython",
    "version": 3
   },
   "file_extension": ".py",
   "mimetype": "text/x-python",
   "name": "python",
   "nbconvert_exporter": "python",
   "pygments_lexer": "ipython3",
   "version": "3.9.12"
  }
 },
 "nbformat": 4,
 "nbformat_minor": 5
}
