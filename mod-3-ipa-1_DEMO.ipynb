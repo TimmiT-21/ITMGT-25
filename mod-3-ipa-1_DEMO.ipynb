{
 "cells": [
  {
   "cell_type": "code",
   "execution_count": 132,
   "id": "88b26681-59c4-4045-b3f7-cce1c26334d4",
   "metadata": {},
   "outputs": [],
   "source": [
    "'''Module 3: Individual Programming Assignment 1\n",
    "Thinking Like a Programmer\n",
    "This assignment covers your intermediate proficiency with Python.\n",
    "'''\n",
    "\n",
    "def shift_letter(letter, shift):\n",
    "    '''Shift Letter. \n",
    "    5 points.\n",
    "    \n",
    "    Shift a letter right by the given number.\n",
    "    Wrap the letter around if it reaches the end of the alphabet.\n",
    "    Examples:\n",
    "    shift_letter(\"A\", 0) -> \"A\"\n",
    "    shift_letter(\"A\", 2) -> \"C\"\n",
    "    shift_letter(\"Z\", 1) -> \"A\"\n",
    "    shift_letter(\"X\", 5) -> \"C\"\n",
    "    shift_letter(\" \", _) -> \" \"\n",
    "    *Note: the single underscore `_` is used to acknowledge the presence\n",
    "        of a value without caring about its contents.\n",
    "    Parameters\n",
    "    ----------\n",
    "    letter: str\n",
    "        a single uppercase English letter, or a space.\n",
    "    shift: int\n",
    "        the number by which to shift the letter. \n",
    "    Returns\n",
    "    -------\n",
    "    str\n",
    "        the letter, shifted appropriately, if a letter.\n",
    "        a single space if the original letter was a space.\n",
    "    '''\n",
    "    # Replace `pass` with your code. \n",
    "    # Stay within the function. Only use the parameters as input. The function should return your answer.\n",
    "    if letter == \" \":\n",
    "        return \" \"\n",
    "    else: \n",
    "        cipher_letter = \"\"\n",
    "        for x in letter:\n",
    "            position = ord(letter) - 65  \n",
    "            new_letter=(chr(65 + (position + shift) % 26))    \n",
    "            cipher_letter += new_letter  \n",
    "        return cipher_letter"
   ]
  },
  {
   "cell_type": "code",
   "execution_count": 133,
   "id": "00c1f09a-dcbc-4558-ad05-de67b4ee1086",
   "metadata": {},
   "outputs": [
    {
     "data": {
      "text/plain": [
       "'C'"
      ]
     },
     "execution_count": 133,
     "metadata": {},
     "output_type": "execute_result"
    }
   ],
   "source": [
    "shift_letter('X',208_005)"
   ]
  },
  {
   "cell_type": "code",
   "execution_count": 134,
   "id": "7bfefd0f-8560-49a5-b619-a3894bb1e660",
   "metadata": {},
   "outputs": [],
   "source": [
    "def caesar_cipher(message, shift):\n",
    "    '''Caesar Cipher. \n",
    "    10 points.\n",
    "    \n",
    "    Apply a shift number to a string of uppercase English letters and spaces.\n",
    "    Parameters\n",
    "    ----------\n",
    "    message: str\n",
    "        a string of uppercase English letters and spaces.\n",
    "    shift: int\n",
    "        the number by which to shift the letters. \n",
    "    Returns\n",
    "    -------\n",
    "    str\n",
    "        the message, shifted appropriately.\n",
    "    '''\n",
    "    # Replace `pass` with your code. \n",
    "    # Stay within the function. Only use the parameters as input. The function should return your answer.\n",
    "    cipher_message = \"\"\n",
    "    for i in range(len(message)):\n",
    "        char = message[i]\n",
    "        position = ord(char) - 65  \n",
    "        new_letter = (chr(65 + (position + shift) % 26))    \n",
    "        if new_letter == (chr(65 + (ord(\" \") - 65  + shift) % 26)) and char == \" \":\n",
    "            new_letter = \" \"\n",
    "        cipher_message += new_letter \n",
    "        \n",
    "    return cipher_message"
   ]
  },
  {
   "cell_type": "code",
   "execution_count": 135,
   "id": "b435391b-befd-4fdc-82ab-1cc22336506b",
   "metadata": {},
   "outputs": [
    {
     "data": {
      "text/plain": [
       "'CUQ CEHU JE JXQJ'"
      ]
     },
     "execution_count": 135,
     "metadata": {},
     "output_type": "execute_result"
    }
   ],
   "source": [
    "caesar_cipher('MEA MORE TO THAT', 208_016)"
   ]
  },
  {
   "cell_type": "code",
   "execution_count": 318,
   "id": "f543dc00-c8c9-4fa6-ab48-7bb70b7fbd14",
   "metadata": {},
   "outputs": [],
   "source": [
    "def shift_by_letter(letter, letter_shift):\n",
    "    '''Shift By Letter. \n",
    "    10 points.\n",
    "    \n",
    "    Shift a letter to the right using the number equivalent of another letter.\n",
    "    The shift letter is any letter from A to Z, where A represents 0, B represents 1, \n",
    "        ..., Z represents 25.\n",
    "    Examples:\n",
    "    shift_by_letter(\"A\", \"A\") -> \"A\"\n",
    "    shift_by_letter(\"A\", \"C\") -> \"C\"\n",
    "    shift_by_letter(\"B\", \"K\") -> \"L\"\n",
    "    shift_by_letter(\" \", _) -> \" \"\n",
    "    Parameters\n",
    "    ----------\n",
    "    letter: str\n",
    "        a single uppercase English letter, or a space.\n",
    "    letter_shift: str\n",
    "        a single uppercase English letter.\n",
    "    Returns\n",
    "    -------\n",
    "    str\n",
    "        the letter, shifted appropriately.\n",
    "    '''\n",
    "    # Replace `pass` with your code. \n",
    "    # Stay within the function. Only use the parameters as input. The function should return your answer.\n",
    "    cipher_text = \"\"\n",
    "    if letter == \" \":\n",
    "        return \" \"\n",
    "    else:\n",
    "        for x in letter:\n",
    "            if x.isalpha():\n",
    "                stayInAlphabet = ord(x) + (ord(letter_shift) - 65)\n",
    "                if stayInAlphabet > ord('Z'):\n",
    "                    stayInAlphabet -= 26\n",
    "            finalLetter = chr(stayInAlphabet)\n",
    "            cipher_text += finalLetter\n",
    "        return cipher_text "
   ]
  },
  {
   "cell_type": "code",
   "execution_count": 115,
   "id": "e24875df-b618-4d36-b46b-e2cf695eb41f",
   "metadata": {},
   "outputs": [
    {
     "data": {
      "text/plain": [
       "'L'"
      ]
     },
     "execution_count": 115,
     "metadata": {},
     "output_type": "execute_result"
    }
   ],
   "source": [
    "shift_by_letter('B','K')"
   ]
  },
  {
   "cell_type": "code",
   "execution_count": 319,
   "id": "efbc8c1f-9a29-46d5-a679-e12db7a2da35",
   "metadata": {},
   "outputs": [],
   "source": [
    "def vigenere_cipher(message, key):\n",
    "    '''Vigenere Cipher. \n",
    "    15 points.\n",
    "    \n",
    "    Encrypts a message using a keyphrase instead of a static number.\n",
    "    Every letter in the message is shifted by the number represented by the \n",
    "        respective letter in the key.\n",
    "    Spaces should be ignored.\n",
    "    Example:\n",
    "    vigenere_cipher(\"A C\", \"KEY\") -> \"K A\"\n",
    "    If needed, the keyphrase is extended to match the length of the key.\n",
    "        If the key is \"KEY\" and the message is \"LONGTEXT\",\n",
    "        the key will be extended to be \"KEYKEYKE\".\n",
    "    Parameters\n",
    "    ----------\n",
    "    message: str\n",
    "        a string of uppercase English letters and spaces.\n",
    "    key: str\n",
    "        a string of uppercase English letters. Will never be longer than the message.\n",
    "        Will never contain spaces.\n",
    "    Returns\n",
    "    -------\n",
    "    str\n",
    "        the message, shifted appropriately.\n",
    "    '''\n",
    "    # Replace `pass` with your code. \n",
    "    # Stay within the function. Only use the parameters as input. The function should return your answer.\n",
    "    key = list(key)\n",
    "    cipher_text = []\n",
    "    if len(key) < len(message):\n",
    "        for i in range(len(message) - len(key)):\n",
    "            key.append(key[i % len(key)])\n",
    "            new_key = \"\" . join(key)\n",
    "            \n",
    "        for i in range(len(message)):\n",
    "            x = ord(' ')\n",
    "            if message[i] != ' ': \n",
    "                x = (ord(message[i]) + ord(new_key[i])) % 26\n",
    "                x += ord('A')\n",
    "            cipher_text.append(chr(x))\n",
    "        return(\"\" . join(cipher_text))\n",
    "    \n",
    "    else:\n",
    "        for i in range(len(message)):\n",
    "            x = ord(' ')\n",
    "            if message[i] != ' ': \n",
    "                x = (ord(message[i]) + ord(key[i])) % 26\n",
    "                x += ord('A')\n",
    "            cipher_text.append(chr(x))\n",
    "        return(\"\" . join(cipher_text))\n",
    "    \n",
    "# EDIT CODE IT'S NOT WORKING :( I'm not sure how to make the for-loop ignore spaces. \n",
    "# Update! It's fine now"
   ]
  },
  {
   "cell_type": "code",
   "execution_count": 209,
   "id": "27e0a82a-31b8-4553-9236-1c397e10cbe8",
   "metadata": {},
   "outputs": [
    {
     "data": {
      "text/plain": [
       "'VSLQXCHX'"
      ]
     },
     "execution_count": 209,
     "metadata": {},
     "output_type": "execute_result"
    }
   ],
   "source": [
    "vigenere_cipher('LONGTEXT','KEY' )"
   ]
  },
  {
   "cell_type": "code",
   "execution_count": 321,
   "id": "1f57bb0a-e168-438b-8a20-777dd503a219",
   "metadata": {},
   "outputs": [],
   "source": [
    "def scytale_cipher(message, shift):\n",
    "    '''Scytale Cipher.\n",
    "    15 points.\n",
    "    \n",
    "    Encrypts a message by simulating a scytale cipher.\n",
    "    A scytale is a cylinder around which you can wrap a long strip of \n",
    "        parchment that contained a string of apparent gibberish. The parchment, \n",
    "        when read using the scytale, would reveal a message due to every nth \n",
    "        letter now appearing next to each other, revealing a proper message.\n",
    "    This encryption method is obsolete and should never be used to encrypt\n",
    "        data in production settings.\n",
    "    You may read more about the method here:\n",
    "        https://en.wikipedia.org/wiki/Scytale\n",
    "    You may follow this algorithm to implement a scytale-style cipher:\n",
    "    1. Take a message to be encoded and a \"shift\" number. \n",
    "        For this example, we will use \"INFORMATION_AGE\" as \n",
    "        the message and 3 as the shift.\n",
    "    2. Check if the length of the message is a multiple of \n",
    "        the shift. If it is not, add additional underscores \n",
    "        to the end of the message until it is. \n",
    "        In this example, \"INFORMATION_AGE\" is already a multiple of 3, \n",
    "        so we will leave it alone.\n",
    "    3. This is the tricky part. Construct the encoded message. \n",
    "        For each index i in the encoded message, use the character at the index\n",
    "        (i // shift) + (len(message) // shift) * (i % shift) of the raw message. \n",
    "        If this number doesn't make sense, you can play around with the cipher at\n",
    "         https://dencode.com/en/cipher/scytale to try to understand it.\n",
    "    4. Return the encoded message. In this case, \n",
    "        the output should be \"IMNNA_FTAOIGROE\".\n",
    "    Example:\n",
    "    scytale_cipher(\"INFORMATION_AGE\", 3) -> \"IMNNA_FTAOIGROE\"\n",
    "    scytale_cipher(\"INFORMATION_AGE\", 4) -> \"IRIANMOGFANEOT__\"\n",
    "    scytale_cipher(\"ALGORITHMS_ARE_IMPORTANT\", 8) -> \"AOTSRIOALRH_EMRNGIMA_PTT\"\n",
    "    Parameters\n",
    "    ----------\n",
    "    message: str\n",
    "        a string of uppercase English letters and underscores (underscores represent spaces)\n",
    "    shift: int\n",
    "        a positive int that does not exceed the length of message\n",
    "    Returns\n",
    "    -------\n",
    "    str\n",
    "        the encoded message\n",
    "    '''\n",
    "    # Replace `pass` with your code. \n",
    "    # Stay within the function. Only use the parameters as input. The function should return your answer.\n",
    "    \n",
    "    original_text = list(message)\n",
    "    while len(original_text) % shift > 0:\n",
    "        original_text.append('_')\n",
    "        \n",
    "    cipher_text = []    \n",
    "    for x in range(len(original_text)):\n",
    "         cipher_text.append(original_text[(x // shift) + (len(original_text) // shift) * (x % shift)])\n",
    "   \n",
    "    return ''.join(cipher_text)"
   ]
  },
  {
   "cell_type": "code",
   "execution_count": 323,
   "id": "7dedd9d7-06ed-4cf4-b42b-942168ab33cb",
   "metadata": {},
   "outputs": [
    {
     "data": {
      "text/plain": [
       "'IRIANMOGFANEOT__'"
      ]
     },
     "execution_count": 323,
     "metadata": {},
     "output_type": "execute_result"
    }
   ],
   "source": [
    "scytale_cipher(\"INFORMATION_AGE\", 4)"
   ]
  },
  {
   "cell_type": "code",
   "execution_count": 20,
   "id": "ff1eabb0-999d-4b88-bdc6-b54a3e697728",
   "metadata": {},
   "outputs": [],
   "source": [
    "def scytale_decipher(message, shift):\n",
    "    '''Scytale De-cipher.\n",
    "    15 points.\n",
    "    Decrypts a message that was originally encrypted with the `scytale_cipher` function above.\n",
    "    Example:\n",
    "    scytale_decipher(\"IMNNA_FTAOIGROE\", 3) -> \"INFORMATION_AGE\"\n",
    "    scytale_decipher(\"AOTSRIOALRH_EMRNGIMA_PTT\", 8) -> \"ALGORITHMS_ARE_IMPORTANT\"\n",
    "    scytale_decipher(\"IRIANMOGFANEOT__\", 4) -> \"INFORMATION_AGE_\"\n",
    "    There is no further brief for this number.\n",
    "    \n",
    "    Parameters\n",
    "    ----------\n",
    "    message: str\n",
    "        a string of uppercase English letters and underscores (underscores represent spaces)\n",
    "    shift: int\n",
    "        a positive int that does not exceed the length of message\n",
    "    Returns\n",
    "    -------\n",
    "    str\n",
    "        the decoded message\n",
    "    '''\n",
    "    # Replace `pass` with your code. \n",
    "    # Stay within the function. Only use the parameters as input. The function should return your answer.\n",
    "    message_length = len(message)\n",
    "    decoded_text = [None] * message_length\n",
    "    message += \"_\" * (shift - (message_length % shift))\n",
    "\n",
    "    for i in range(message_length):\n",
    "        decoded_index = (i // shift) + (message_length // shift) * (i % shift)\n",
    "        decoded_text[decoded_index] = message[i]\n",
    "    return(\"\".join(decoded_text))"
   ]
  },
  {
   "cell_type": "code",
   "execution_count": 200,
   "id": "5108b2d6-dafb-4a65-9bd3-e7bcc3bc070a",
   "metadata": {},
   "outputs": [
    {
     "data": {
      "text/plain": [
       "'ALGORITHMS_ARE_IMPORTANT'"
      ]
     },
     "execution_count": 200,
     "metadata": {},
     "output_type": "execute_result"
    }
   ],
   "source": [
    "scytale_decipher(\"AOTSRIOALRH_EMRNGIMA_PTT\", 8)"
   ]
  },
  {
   "cell_type": "code",
   "execution_count": null,
   "id": "d96a627f-cc1f-480f-941f-0cd71ea6019b",
   "metadata": {},
   "outputs": [],
   "source": []
  },
  {
   "cell_type": "code",
   "execution_count": null,
   "id": "4eb87c50-3df1-433a-9d42-09f5ec046d0c",
   "metadata": {},
   "outputs": [],
   "source": []
  },
  {
   "cell_type": "code",
   "execution_count": null,
   "id": "73d58400-c80a-4f59-b260-53a624a8f0f7",
   "metadata": {},
   "outputs": [],
   "source": []
  },
  {
   "cell_type": "code",
   "execution_count": null,
   "id": "90155426-2b58-466f-86ca-64483aec2fbe",
   "metadata": {},
   "outputs": [],
   "source": []
  },
  {
   "cell_type": "code",
   "execution_count": null,
   "id": "64513b08-1636-46d5-b149-74f864194ea6",
   "metadata": {},
   "outputs": [],
   "source": []
  },
  {
   "cell_type": "code",
   "execution_count": null,
   "id": "5a03e311-e0aa-4438-949b-433fc0ecc68b",
   "metadata": {},
   "outputs": [],
   "source": []
  },
  {
   "cell_type": "code",
   "execution_count": null,
   "id": "088a738b-0fcf-4b78-9d7f-bdcd6057ba40",
   "metadata": {},
   "outputs": [],
   "source": [
    "\n"
   ]
  },
  {
   "cell_type": "code",
   "execution_count": null,
   "id": "4baa3dab-3681-4640-aeb6-75d8fff3fd53",
   "metadata": {},
   "outputs": [],
   "source": []
  }
 ],
 "metadata": {
  "kernelspec": {
   "display_name": "Python 3 (ipykernel)",
   "language": "python",
   "name": "python3"
  },
  "language_info": {
   "codemirror_mode": {
    "name": "ipython",
    "version": 3
   },
   "file_extension": ".py",
   "mimetype": "text/x-python",
   "name": "python",
   "nbconvert_exporter": "python",
   "pygments_lexer": "ipython3",
   "version": "3.9.12"
  }
 },
 "nbformat": 4,
 "nbformat_minor": 5
}
